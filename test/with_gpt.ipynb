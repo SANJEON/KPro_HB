{
 "cells": [
  {
   "cell_type": "markdown",
   "id": "55dba762",
   "metadata": {},
   "source": [
    "# ChatGPT를 활용하여 7월 원수 탁도를 시각화\n",
    "\n"
   ]
  },
  {
   "cell_type": "markdown",
   "id": "d44d496a",
   "metadata": {},
   "source": [
    "### 과제 선정 이유\n",
    "##### 1. 현재 스마트정수장 약품공정 알고리즘은 평상시 저탁도 원수 유입시에 최적화되어 있어 홍수기에 댐 방류시 고탁수 원수 유입에 대처할 수 없음\n",
    "##### 2. 작년도 탁수 유입때 약품을 많이 넣어도 침전수탁도가 1NTU 아래로 유지되지 않고 꾸준히 올라가는 상황 발생"
   ]
  },
  {
   "cell_type": "markdown",
   "id": "77fea684",
   "metadata": {},
   "source": [
    "### 과제 목표\n",
    "\n",
    "##### 1. 현재 정수장에 들어오는 원수 탁도의 범위를 군집화 기법을 사용하여 시각화하여 저탁도 유입시, 고탁도 유입시 두 가지 경우에 대해 별도의 알고리즘을 갖출 필요성 파악\n",
    "\n",
    "##### 2. 기존 정수장 운영 데이터가 100% 정답이 아님을 인정하고 가상의 물리환경을 통해 적정 약품 주입률 계산"
   ]
  },
  {
   "cell_type": "markdown",
   "id": "dfd4dc91",
   "metadata": {},
   "source": [
    "##### ChatGPT가 보여준 각 군집화 알고리즘별 plt"
   ]
  },
  {
   "cell_type": "markdown",
   "id": "339f87ed",
   "metadata": {},
   "source": [
    "![alt text](image.png)"
   ]
  },
  {
   "cell_type": "markdown",
   "id": "3edaf4b8",
   "metadata": {},
   "source": [
    "![alt text](image-1.png)"
   ]
  },
  {
   "cell_type": "markdown",
   "id": "74e9743d",
   "metadata": {},
   "source": [
    "##### K-Means 2 Clusters로 분석하기로 결정"
   ]
  },
  {
   "cell_type": "markdown",
   "id": "668cec58",
   "metadata": {},
   "source": [
    "##### import"
   ]
  },
  {
   "cell_type": "code",
   "execution_count": 12,
   "id": "0c87a6f4",
   "metadata": {},
   "outputs": [],
   "source": [
    "import pandas as pd\n",
    "from sklearn.cluster import KMeans\n",
    "import matplotlib.pyplot as plt\n",
    "import openpyxl\n",
    "\n",
    "\n",
    "plt.rcParams['font.family'] = 'Malgun Gothic'  # 맑은 고딕\n",
    "\n"
   ]
  },
  {
   "cell_type": "code",
   "execution_count": null,
   "id": "30cfc399",
   "metadata": {},
   "outputs": [
    {
     "name": "stdout",
     "output_type": "stream",
     "text": [
      "그룹 1 평균:\n",
      "원수 탁도               5.910590\n",
      "3단계 1계열 응집제 주입률    15.128307\n",
      "3단계 침전지 탁도          0.409185\n",
      "dtype: float64\n",
      "\n",
      "그룹 2 평균:\n",
      "원수 탁도              176.385319\n",
      "3단계 1계열 응집제 주입률     57.272960\n",
      "3단계 침전지 탁도           0.646769\n",
      "dtype: float64\n"
     ]
    },
    {
     "ename": "AttributeError",
     "evalue": "Rectangle.set() got an unexpected keyword argument 'scale'",
     "output_type": "error",
     "traceback": [
      "\u001b[31m---------------------------------------------------------------------------\u001b[39m",
      "\u001b[31mAttributeError\u001b[39m                            Traceback (most recent call last)",
      "\u001b[36mCell\u001b[39m\u001b[36m \u001b[39m\u001b[32mIn[16]\u001b[39m\u001b[32m, line 29\u001b[39m\n\u001b[32m     26\u001b[39m plt.figure(figsize=(\u001b[32m12\u001b[39m, \u001b[32m6\u001b[39m))\n\u001b[32m     28\u001b[39m plt.subplot(\u001b[32m1\u001b[39m, \u001b[32m3\u001b[39m, \u001b[32m1\u001b[39m)\n\u001b[32m---> \u001b[39m\u001b[32m29\u001b[39m \u001b[43mplt\u001b[49m\u001b[43m.\u001b[49m\u001b[43mhist\u001b[49m\u001b[43m(\u001b[49m\u001b[43mgroup_1\u001b[49m\u001b[43m[\u001b[49m\u001b[33;43m'\u001b[39;49m\u001b[33;43m원수 탁도\u001b[39;49m\u001b[33;43m'\u001b[39;49m\u001b[43m]\u001b[49m\u001b[43m,\u001b[49m\u001b[43m \u001b[49m\u001b[43malpha\u001b[49m\u001b[43m=\u001b[49m\u001b[32;43m0.5\u001b[39;49m\u001b[43m,\u001b[49m\u001b[43m \u001b[49m\u001b[43mlabel\u001b[49m\u001b[43m=\u001b[49m\u001b[33;43m'\u001b[39;49m\u001b[33;43m그룹 1\u001b[39;49m\u001b[33;43m'\u001b[39;49m\u001b[43m,\u001b[49m\u001b[43m \u001b[49m\u001b[43mcolor\u001b[49m\u001b[43m=\u001b[49m\u001b[33;43m'\u001b[39;49m\u001b[33;43mblue\u001b[39;49m\u001b[33;43m'\u001b[39;49m\u001b[43m,\u001b[49m\u001b[43m \u001b[49m\u001b[43mbins\u001b[49m\u001b[43m=\u001b[49m\u001b[32;43m20\u001b[39;49m\u001b[43m,\u001b[49m\u001b[43m \u001b[49m\u001b[43mscale\u001b[49m\u001b[43m=\u001b[49m\u001b[33;43m\"\u001b[39;49m\u001b[33;43mlog\u001b[39;49m\u001b[33;43m\"\u001b[39;49m\u001b[43m)\u001b[49m\n\u001b[32m     30\u001b[39m plt.hist(group_2[\u001b[33m'\u001b[39m\u001b[33m원수 탁도\u001b[39m\u001b[33m'\u001b[39m], alpha=\u001b[32m0.5\u001b[39m, label=\u001b[33m'\u001b[39m\u001b[33m그룹 2\u001b[39m\u001b[33m'\u001b[39m, color=\u001b[33m'\u001b[39m\u001b[33mred\u001b[39m\u001b[33m'\u001b[39m, bins=\u001b[32m20\u001b[39m)\n\u001b[32m     31\u001b[39m plt.title(\u001b[33m'\u001b[39m\u001b[33m원수 탁도 분포\u001b[39m\u001b[33m'\u001b[39m)\n",
      "\u001b[36mFile \u001b[39m\u001b[32mc:\\ProgramData\\miniconda3\\envs\\test\\Lib\\site-packages\\matplotlib\\_api\\deprecation.py:453\u001b[39m, in \u001b[36mmake_keyword_only.<locals>.wrapper\u001b[39m\u001b[34m(*args, **kwargs)\u001b[39m\n\u001b[32m    447\u001b[39m \u001b[38;5;28;01mif\u001b[39;00m \u001b[38;5;28mlen\u001b[39m(args) > name_idx:\n\u001b[32m    448\u001b[39m     warn_deprecated(\n\u001b[32m    449\u001b[39m         since, message=\u001b[33m\"\u001b[39m\u001b[33mPassing the \u001b[39m\u001b[38;5;132;01m%(name)s\u001b[39;00m\u001b[33m \u001b[39m\u001b[38;5;132;01m%(obj_type)s\u001b[39;00m\u001b[33m \u001b[39m\u001b[33m\"\u001b[39m\n\u001b[32m    450\u001b[39m         \u001b[33m\"\u001b[39m\u001b[33mpositionally is deprecated since Matplotlib \u001b[39m\u001b[38;5;132;01m%(since)s\u001b[39;00m\u001b[33m; the \u001b[39m\u001b[33m\"\u001b[39m\n\u001b[32m    451\u001b[39m         \u001b[33m\"\u001b[39m\u001b[33mparameter will become keyword-only in \u001b[39m\u001b[38;5;132;01m%(removal)s\u001b[39;00m\u001b[33m.\u001b[39m\u001b[33m\"\u001b[39m,\n\u001b[32m    452\u001b[39m         name=name, obj_type=\u001b[33mf\u001b[39m\u001b[33m\"\u001b[39m\u001b[33mparameter of \u001b[39m\u001b[38;5;132;01m{\u001b[39;00mfunc.\u001b[34m__name__\u001b[39m\u001b[38;5;132;01m}\u001b[39;00m\u001b[33m()\u001b[39m\u001b[33m\"\u001b[39m)\n\u001b[32m--> \u001b[39m\u001b[32m453\u001b[39m \u001b[38;5;28;01mreturn\u001b[39;00m \u001b[43mfunc\u001b[49m\u001b[43m(\u001b[49m\u001b[43m*\u001b[49m\u001b[43margs\u001b[49m\u001b[43m,\u001b[49m\u001b[43m \u001b[49m\u001b[43m*\u001b[49m\u001b[43m*\u001b[49m\u001b[43mkwargs\u001b[49m\u001b[43m)\u001b[49m\n",
      "\u001b[36mFile \u001b[39m\u001b[32mc:\\ProgramData\\miniconda3\\envs\\test\\Lib\\site-packages\\matplotlib\\pyplot.py:3467\u001b[39m, in \u001b[36mhist\u001b[39m\u001b[34m(x, bins, range, density, weights, cumulative, bottom, histtype, align, orientation, rwidth, log, color, label, stacked, data, **kwargs)\u001b[39m\n\u001b[32m   3442\u001b[39m \u001b[38;5;129m@_copy_docstring_and_deprecators\u001b[39m(Axes.hist)\n\u001b[32m   3443\u001b[39m \u001b[38;5;28;01mdef\u001b[39;00m\u001b[38;5;250m \u001b[39m\u001b[34mhist\u001b[39m(\n\u001b[32m   3444\u001b[39m     x: ArrayLike | Sequence[ArrayLike],\n\u001b[32m   (...)\u001b[39m\u001b[32m   3465\u001b[39m     BarContainer | Polygon | \u001b[38;5;28mlist\u001b[39m[BarContainer | Polygon],\n\u001b[32m   3466\u001b[39m ]:\n\u001b[32m-> \u001b[39m\u001b[32m3467\u001b[39m     \u001b[38;5;28;01mreturn\u001b[39;00m \u001b[43mgca\u001b[49m\u001b[43m(\u001b[49m\u001b[43m)\u001b[49m\u001b[43m.\u001b[49m\u001b[43mhist\u001b[49m\u001b[43m(\u001b[49m\n\u001b[32m   3468\u001b[39m \u001b[43m        \u001b[49m\u001b[43mx\u001b[49m\u001b[43m,\u001b[49m\n\u001b[32m   3469\u001b[39m \u001b[43m        \u001b[49m\u001b[43mbins\u001b[49m\u001b[43m=\u001b[49m\u001b[43mbins\u001b[49m\u001b[43m,\u001b[49m\n\u001b[32m   3470\u001b[39m \u001b[43m        \u001b[49m\u001b[38;5;28;43mrange\u001b[39;49m\u001b[43m=\u001b[49m\u001b[38;5;28;43mrange\u001b[39;49m\u001b[43m,\u001b[49m\n\u001b[32m   3471\u001b[39m \u001b[43m        \u001b[49m\u001b[43mdensity\u001b[49m\u001b[43m=\u001b[49m\u001b[43mdensity\u001b[49m\u001b[43m,\u001b[49m\n\u001b[32m   3472\u001b[39m \u001b[43m        \u001b[49m\u001b[43mweights\u001b[49m\u001b[43m=\u001b[49m\u001b[43mweights\u001b[49m\u001b[43m,\u001b[49m\n\u001b[32m   3473\u001b[39m \u001b[43m        \u001b[49m\u001b[43mcumulative\u001b[49m\u001b[43m=\u001b[49m\u001b[43mcumulative\u001b[49m\u001b[43m,\u001b[49m\n\u001b[32m   3474\u001b[39m \u001b[43m        \u001b[49m\u001b[43mbottom\u001b[49m\u001b[43m=\u001b[49m\u001b[43mbottom\u001b[49m\u001b[43m,\u001b[49m\n\u001b[32m   3475\u001b[39m \u001b[43m        \u001b[49m\u001b[43mhisttype\u001b[49m\u001b[43m=\u001b[49m\u001b[43mhisttype\u001b[49m\u001b[43m,\u001b[49m\n\u001b[32m   3476\u001b[39m \u001b[43m        \u001b[49m\u001b[43malign\u001b[49m\u001b[43m=\u001b[49m\u001b[43malign\u001b[49m\u001b[43m,\u001b[49m\n\u001b[32m   3477\u001b[39m \u001b[43m        \u001b[49m\u001b[43morientation\u001b[49m\u001b[43m=\u001b[49m\u001b[43morientation\u001b[49m\u001b[43m,\u001b[49m\n\u001b[32m   3478\u001b[39m \u001b[43m        \u001b[49m\u001b[43mrwidth\u001b[49m\u001b[43m=\u001b[49m\u001b[43mrwidth\u001b[49m\u001b[43m,\u001b[49m\n\u001b[32m   3479\u001b[39m \u001b[43m        \u001b[49m\u001b[43mlog\u001b[49m\u001b[43m=\u001b[49m\u001b[43mlog\u001b[49m\u001b[43m,\u001b[49m\n\u001b[32m   3480\u001b[39m \u001b[43m        \u001b[49m\u001b[43mcolor\u001b[49m\u001b[43m=\u001b[49m\u001b[43mcolor\u001b[49m\u001b[43m,\u001b[49m\n\u001b[32m   3481\u001b[39m \u001b[43m        \u001b[49m\u001b[43mlabel\u001b[49m\u001b[43m=\u001b[49m\u001b[43mlabel\u001b[49m\u001b[43m,\u001b[49m\n\u001b[32m   3482\u001b[39m \u001b[43m        \u001b[49m\u001b[43mstacked\u001b[49m\u001b[43m=\u001b[49m\u001b[43mstacked\u001b[49m\u001b[43m,\u001b[49m\n\u001b[32m   3483\u001b[39m \u001b[43m        \u001b[49m\u001b[43m*\u001b[49m\u001b[43m*\u001b[49m\u001b[43m(\u001b[49m\u001b[43m{\u001b[49m\u001b[33;43m\"\u001b[39;49m\u001b[33;43mdata\u001b[39;49m\u001b[33;43m\"\u001b[39;49m\u001b[43m:\u001b[49m\u001b[43m \u001b[49m\u001b[43mdata\u001b[49m\u001b[43m}\u001b[49m\u001b[43m \u001b[49m\u001b[38;5;28;43;01mif\u001b[39;49;00m\u001b[43m \u001b[49m\u001b[43mdata\u001b[49m\u001b[43m \u001b[49m\u001b[38;5;129;43;01mis\u001b[39;49;00m\u001b[43m \u001b[49m\u001b[38;5;129;43;01mnot\u001b[39;49;00m\u001b[43m \u001b[49m\u001b[38;5;28;43;01mNone\u001b[39;49;00m\u001b[43m \u001b[49m\u001b[38;5;28;43;01melse\u001b[39;49;00m\u001b[43m \u001b[49m\u001b[43m{\u001b[49m\u001b[43m}\u001b[49m\u001b[43m)\u001b[49m\u001b[43m,\u001b[49m\n\u001b[32m   3484\u001b[39m \u001b[43m        \u001b[49m\u001b[43m*\u001b[49m\u001b[43m*\u001b[49m\u001b[43mkwargs\u001b[49m\u001b[43m,\u001b[49m\n\u001b[32m   3485\u001b[39m \u001b[43m    \u001b[49m\u001b[43m)\u001b[49m\n",
      "\u001b[36mFile \u001b[39m\u001b[32mc:\\ProgramData\\miniconda3\\envs\\test\\Lib\\site-packages\\matplotlib\\_api\\deprecation.py:453\u001b[39m, in \u001b[36mmake_keyword_only.<locals>.wrapper\u001b[39m\u001b[34m(*args, **kwargs)\u001b[39m\n\u001b[32m    447\u001b[39m \u001b[38;5;28;01mif\u001b[39;00m \u001b[38;5;28mlen\u001b[39m(args) > name_idx:\n\u001b[32m    448\u001b[39m     warn_deprecated(\n\u001b[32m    449\u001b[39m         since, message=\u001b[33m\"\u001b[39m\u001b[33mPassing the \u001b[39m\u001b[38;5;132;01m%(name)s\u001b[39;00m\u001b[33m \u001b[39m\u001b[38;5;132;01m%(obj_type)s\u001b[39;00m\u001b[33m \u001b[39m\u001b[33m\"\u001b[39m\n\u001b[32m    450\u001b[39m         \u001b[33m\"\u001b[39m\u001b[33mpositionally is deprecated since Matplotlib \u001b[39m\u001b[38;5;132;01m%(since)s\u001b[39;00m\u001b[33m; the \u001b[39m\u001b[33m\"\u001b[39m\n\u001b[32m    451\u001b[39m         \u001b[33m\"\u001b[39m\u001b[33mparameter will become keyword-only in \u001b[39m\u001b[38;5;132;01m%(removal)s\u001b[39;00m\u001b[33m.\u001b[39m\u001b[33m\"\u001b[39m,\n\u001b[32m    452\u001b[39m         name=name, obj_type=\u001b[33mf\u001b[39m\u001b[33m\"\u001b[39m\u001b[33mparameter of \u001b[39m\u001b[38;5;132;01m{\u001b[39;00mfunc.\u001b[34m__name__\u001b[39m\u001b[38;5;132;01m}\u001b[39;00m\u001b[33m()\u001b[39m\u001b[33m\"\u001b[39m)\n\u001b[32m--> \u001b[39m\u001b[32m453\u001b[39m \u001b[38;5;28;01mreturn\u001b[39;00m \u001b[43mfunc\u001b[49m\u001b[43m(\u001b[49m\u001b[43m*\u001b[49m\u001b[43margs\u001b[49m\u001b[43m,\u001b[49m\u001b[43m \u001b[49m\u001b[43m*\u001b[49m\u001b[43m*\u001b[49m\u001b[43mkwargs\u001b[49m\u001b[43m)\u001b[49m\n",
      "\u001b[36mFile \u001b[39m\u001b[32mc:\\ProgramData\\miniconda3\\envs\\test\\Lib\\site-packages\\matplotlib\\__init__.py:1521\u001b[39m, in \u001b[36m_preprocess_data.<locals>.inner\u001b[39m\u001b[34m(ax, data, *args, **kwargs)\u001b[39m\n\u001b[32m   1518\u001b[39m \u001b[38;5;129m@functools\u001b[39m.wraps(func)\n\u001b[32m   1519\u001b[39m \u001b[38;5;28;01mdef\u001b[39;00m\u001b[38;5;250m \u001b[39m\u001b[34minner\u001b[39m(ax, *args, data=\u001b[38;5;28;01mNone\u001b[39;00m, **kwargs):\n\u001b[32m   1520\u001b[39m     \u001b[38;5;28;01mif\u001b[39;00m data \u001b[38;5;129;01mis\u001b[39;00m \u001b[38;5;28;01mNone\u001b[39;00m:\n\u001b[32m-> \u001b[39m\u001b[32m1521\u001b[39m         \u001b[38;5;28;01mreturn\u001b[39;00m \u001b[43mfunc\u001b[49m\u001b[43m(\u001b[49m\n\u001b[32m   1522\u001b[39m \u001b[43m            \u001b[49m\u001b[43max\u001b[49m\u001b[43m,\u001b[49m\n\u001b[32m   1523\u001b[39m \u001b[43m            \u001b[49m\u001b[43m*\u001b[49m\u001b[38;5;28;43mmap\u001b[39;49m\u001b[43m(\u001b[49m\u001b[43mcbook\u001b[49m\u001b[43m.\u001b[49m\u001b[43msanitize_sequence\u001b[49m\u001b[43m,\u001b[49m\u001b[43m \u001b[49m\u001b[43margs\u001b[49m\u001b[43m)\u001b[49m\u001b[43m,\u001b[49m\n\u001b[32m   1524\u001b[39m \u001b[43m            \u001b[49m\u001b[43m*\u001b[49m\u001b[43m*\u001b[49m\u001b[43m{\u001b[49m\u001b[43mk\u001b[49m\u001b[43m:\u001b[49m\u001b[43m \u001b[49m\u001b[43mcbook\u001b[49m\u001b[43m.\u001b[49m\u001b[43msanitize_sequence\u001b[49m\u001b[43m(\u001b[49m\u001b[43mv\u001b[49m\u001b[43m)\u001b[49m\u001b[43m \u001b[49m\u001b[38;5;28;43;01mfor\u001b[39;49;00m\u001b[43m \u001b[49m\u001b[43mk\u001b[49m\u001b[43m,\u001b[49m\u001b[43m \u001b[49m\u001b[43mv\u001b[49m\u001b[43m \u001b[49m\u001b[38;5;129;43;01min\u001b[39;49;00m\u001b[43m \u001b[49m\u001b[43mkwargs\u001b[49m\u001b[43m.\u001b[49m\u001b[43mitems\u001b[49m\u001b[43m(\u001b[49m\u001b[43m)\u001b[49m\u001b[43m}\u001b[49m\u001b[43m)\u001b[49m\n\u001b[32m   1526\u001b[39m     bound = new_sig.bind(ax, *args, **kwargs)\n\u001b[32m   1527\u001b[39m     auto_label = (bound.arguments.get(label_namer)\n\u001b[32m   1528\u001b[39m                   \u001b[38;5;129;01mor\u001b[39;00m bound.kwargs.get(label_namer))\n",
      "\u001b[36mFile \u001b[39m\u001b[32mc:\\ProgramData\\miniconda3\\envs\\test\\Lib\\site-packages\\matplotlib\\axes\\_axes.py:7297\u001b[39m, in \u001b[36mAxes.hist\u001b[39m\u001b[34m(self, x, bins, range, density, weights, cumulative, bottom, histtype, align, orientation, rwidth, log, color, label, stacked, **kwargs)\u001b[39m\n\u001b[32m   7289\u001b[39m p = patch[\u001b[32m0\u001b[39m]\n\u001b[32m   7290\u001b[39m kwargs.update({\n\u001b[32m   7291\u001b[39m     \u001b[33m'\u001b[39m\u001b[33mhatch\u001b[39m\u001b[33m'\u001b[39m: \u001b[38;5;28mnext\u001b[39m(hatches),\n\u001b[32m   7292\u001b[39m     \u001b[33m'\u001b[39m\u001b[33mlinewidth\u001b[39m\u001b[33m'\u001b[39m: \u001b[38;5;28mnext\u001b[39m(linewidths),\n\u001b[32m   (...)\u001b[39m\u001b[32m   7295\u001b[39m     \u001b[33m'\u001b[39m\u001b[33mfacecolor\u001b[39m\u001b[33m'\u001b[39m: \u001b[38;5;28mnext\u001b[39m(facecolors),\n\u001b[32m   7296\u001b[39m })\n\u001b[32m-> \u001b[39m\u001b[32m7297\u001b[39m \u001b[43mp\u001b[49m\u001b[43m.\u001b[49m\u001b[43m_internal_update\u001b[49m\u001b[43m(\u001b[49m\u001b[43mkwargs\u001b[49m\u001b[43m)\u001b[49m\n\u001b[32m   7298\u001b[39m \u001b[38;5;28;01mif\u001b[39;00m lbl \u001b[38;5;129;01mis\u001b[39;00m \u001b[38;5;129;01mnot\u001b[39;00m \u001b[38;5;28;01mNone\u001b[39;00m:\n\u001b[32m   7299\u001b[39m     p.set_label(lbl)\n",
      "\u001b[36mFile \u001b[39m\u001b[32mc:\\ProgramData\\miniconda3\\envs\\test\\Lib\\site-packages\\matplotlib\\artist.py:1233\u001b[39m, in \u001b[36mArtist._internal_update\u001b[39m\u001b[34m(self, kwargs)\u001b[39m\n\u001b[32m   1226\u001b[39m \u001b[38;5;28;01mdef\u001b[39;00m\u001b[38;5;250m \u001b[39m\u001b[34m_internal_update\u001b[39m(\u001b[38;5;28mself\u001b[39m, kwargs):\n\u001b[32m   1227\u001b[39m \u001b[38;5;250m    \u001b[39m\u001b[33;03m\"\"\"\u001b[39;00m\n\u001b[32m   1228\u001b[39m \u001b[33;03m    Update artist properties without prenormalizing them, but generating\u001b[39;00m\n\u001b[32m   1229\u001b[39m \u001b[33;03m    errors as if calling `set`.\u001b[39;00m\n\u001b[32m   1230\u001b[39m \n\u001b[32m   1231\u001b[39m \u001b[33;03m    The lack of prenormalization is to maintain backcompatibility.\u001b[39;00m\n\u001b[32m   1232\u001b[39m \u001b[33;03m    \"\"\"\u001b[39;00m\n\u001b[32m-> \u001b[39m\u001b[32m1233\u001b[39m     \u001b[38;5;28;01mreturn\u001b[39;00m \u001b[38;5;28;43mself\u001b[39;49m\u001b[43m.\u001b[49m\u001b[43m_update_props\u001b[49m\u001b[43m(\u001b[49m\n\u001b[32m   1234\u001b[39m \u001b[43m        \u001b[49m\u001b[43mkwargs\u001b[49m\u001b[43m,\u001b[49m\u001b[43m \u001b[49m\u001b[33;43m\"\u001b[39;49m\u001b[38;5;132;43;01m{cls.__name__}\u001b[39;49;00m\u001b[33;43m.set() got an unexpected keyword argument \u001b[39;49m\u001b[33;43m\"\u001b[39;49m\n\u001b[32m   1235\u001b[39m \u001b[43m        \u001b[49m\u001b[33;43m\"\u001b[39;49m\u001b[38;5;132;43;01m{prop_name!r}\u001b[39;49;00m\u001b[33;43m\"\u001b[39;49m\u001b[43m)\u001b[49m\n",
      "\u001b[36mFile \u001b[39m\u001b[32mc:\\ProgramData\\miniconda3\\envs\\test\\Lib\\site-packages\\matplotlib\\artist.py:1206\u001b[39m, in \u001b[36mArtist._update_props\u001b[39m\u001b[34m(self, props, errfmt)\u001b[39m\n\u001b[32m   1204\u001b[39m             func = \u001b[38;5;28mgetattr\u001b[39m(\u001b[38;5;28mself\u001b[39m, \u001b[33mf\u001b[39m\u001b[33m\"\u001b[39m\u001b[33mset_\u001b[39m\u001b[38;5;132;01m{\u001b[39;00mk\u001b[38;5;132;01m}\u001b[39;00m\u001b[33m\"\u001b[39m, \u001b[38;5;28;01mNone\u001b[39;00m)\n\u001b[32m   1205\u001b[39m             \u001b[38;5;28;01mif\u001b[39;00m \u001b[38;5;129;01mnot\u001b[39;00m \u001b[38;5;28mcallable\u001b[39m(func):\n\u001b[32m-> \u001b[39m\u001b[32m1206\u001b[39m                 \u001b[38;5;28;01mraise\u001b[39;00m \u001b[38;5;167;01mAttributeError\u001b[39;00m(\n\u001b[32m   1207\u001b[39m                     errfmt.format(\u001b[38;5;28mcls\u001b[39m=\u001b[38;5;28mtype\u001b[39m(\u001b[38;5;28mself\u001b[39m), prop_name=k),\n\u001b[32m   1208\u001b[39m                     name=k)\n\u001b[32m   1209\u001b[39m             ret.append(func(v))\n\u001b[32m   1210\u001b[39m \u001b[38;5;28;01mif\u001b[39;00m ret:\n",
      "\u001b[31mAttributeError\u001b[39m: Rectangle.set() got an unexpected keyword argument 'scale'"
     ]
    },
    {
     "data": {
      "image/png": "[encoded data removed]",
      "text/plain": [
       "<Figure size 1200x600 with 1 Axes>"
      ]
     },
     "metadata": {},
     "output_type": "display_data"
    }
   ],
   "source": [
    "\n",
    "# 데이터 불러오기\n",
    "data = pd.read_excel('./data/SN_JULY.xlsx')\n",
    "\n",
    "# 원수 탁도 데이터 추출\n",
    "turbidity_data = data['원수 탁도'].values.reshape(-1, 1)\n",
    "\n",
    "# K-Means 군집화 (2개 군집)\n",
    "kmeans = KMeans(n_clusters=2, random_state=42)\n",
    "data['Cluster'] = kmeans.fit_predict(turbidity_data)\n",
    "\n",
    "# 각 그룹에 대해 원수 탁도, 약품 주입률, 침전 탁도의 평균값 계산\n",
    "group_1 = data[data['Cluster'] == 0]\n",
    "group_2 = data[data['Cluster'] == 1]\n",
    "\n",
    "# 그룹 1과 그룹 2의 평균값\n",
    "group_1_means = group_1[['원수 탁도', '3단계 1계열 응집제 주입률', '3단계 침전지 탁도']].mean()\n",
    "group_2_means = group_2[['원수 탁도', '3단계 1계열 응집제 주입률', '3단계 침전지 탁도']].mean()\n",
    "\n",
    "# 결과 출력\n",
    "print(\"그룹 1 평균:\")\n",
    "print(group_1_means)\n",
    "print(\"\\n그룹 2 평균:\")\n",
    "print(group_2_means)\n",
    "\n",
    "# 분포 분석 (히스토그램)\n",
    "plt.figure(figsize=(12, 6))\n",
    "\n",
    "plt.subplot(1, 3, 1)\n",
    "plt.hist(group_1['원수 탁도'], alpha=0.5, label='그룹 1', color='blue', bins=20)\n",
    "plt.hist(group_2['원수 탁도'], alpha=0.5, label='그룹 2', color='red', bins=20)\n",
    "plt.title('원수 탁도 분포')\n",
    "plt.xlabel('원수 탁도')\n",
    "plt.ylabel('빈도')\n",
    "plt.legend()\n",
    "\n",
    "plt.subplot(1, 3, 2)\n",
    "plt.hist(group_1['3단계 1계열 응집제 주입률'], alpha=0.5, label='그룹 1', color='blue', bins=20)\n",
    "plt.hist(group_2['3단계 1계열 응집제 주입률'], alpha=0.5, label='그룹 2', color='red', bins=20)\n",
    "plt.title('약품 주입률 분포')\n",
    "plt.xlabel('약품 주입률')\n",
    "plt.ylabel('빈도')\n",
    "plt.legend()\n",
    "\n",
    "plt.subplot(1, 3, 3)\n",
    "plt.hist(group_1['3단계 침전지 탁도'], alpha=0.5, label='그룹 1', color='blue', bins=20)\n",
    "plt.hist(group_2['3단계 침전지 탁도'], alpha=0.5, label='그룹 2', color='red', bins=20)\n",
    "plt.title('침전 탁도 분포')\n",
    "plt.xlabel('침전 탁도')\n",
    "plt.ylabel('빈도')\n",
    "plt.legend()\n",
    "\n",
    "plt.tight_layout()\n",
    "plt.show()\n",
    "\n",
    "# 상관 분석\n",
    "correlation_group_1 = group_1[['원수 탁도', '3단계 1계열 응집제 주입률', '3단계 침전지 탁도']].corr()\n",
    "correlation_group_2 = group_2[['원수 탁도', '3단계 1계열 응집제 주입률', '3단계 침전지 탁도']].corr()\n",
    "\n",
    "print(\"\\n그룹 1 상관 분석:\")\n",
    "print(correlation_group_1)\n",
    "print(\"\\n그룹 2 상관 분석:\")\n",
    "print(correlation_group_2)"
   ]
  }
 ],
 "metadata": {
  "kernelspec": {
   "display_name": "test",
   "language": "python",
   "name": "python3"
  },
  "language_info": {
   "codemirror_mode": {
    "name": "ipython",
    "version": 3
   },
   "file_extension": ".py",
   "mimetype": "text/x-python",
   "name": "python",
   "nbconvert_exporter": "python",
   "pygments_lexer": "ipython3",
   "version": "3.11.11"
  }
 },
 "nbformat": 4,
 "nbformat_minor": 5
}
